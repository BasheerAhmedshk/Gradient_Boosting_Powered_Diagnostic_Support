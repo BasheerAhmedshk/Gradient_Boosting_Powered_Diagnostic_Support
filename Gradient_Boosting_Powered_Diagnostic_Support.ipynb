{
  "cells": [
    {
      "cell_type": "code",
      "execution_count": 15,
      "metadata": {
        "colab": {
          "base_uri": "https://localhost:8080/"
        },
        "id": "2Jo-X3U0drq9",
        "outputId": "fa7b424c-bd06-4088-faa9-16208c524915"
      },
      "outputs": [
        {
          "name": "stdout",
          "output_type": "stream",
          "text": [
            "\u001b[2K   \u001b[90m━━━━━━━━━━━━━━━━━━━━━━━━━━━━━━━━━━━━━━━━\u001b[0m \u001b[32m54.2/54.2 MB\u001b[0m \u001b[31m11.0 MB/s\u001b[0m eta \u001b[36m0:00:00\u001b[0m\n",
            "\u001b[2K   \u001b[90m━━━━━━━━━━━━━━━━━━━━━━━━━━━━━━━━━━━━━━━━\u001b[0m \u001b[32m323.1/323.1 kB\u001b[0m \u001b[31m17.0 MB/s\u001b[0m eta \u001b[36m0:00:00\u001b[0m\n",
            "\u001b[2K   \u001b[90m━━━━━━━━━━━━━━━━━━━━━━━━━━━━━━━━━━━━━━━━\u001b[0m \u001b[32m11.6/11.6 MB\u001b[0m \u001b[31m95.1 MB/s\u001b[0m eta \u001b[36m0:00:00\u001b[0m\n",
            "\u001b[?25h"
          ]
        }
      ],
      "source": [
        "!pip install -q xgboost shap pandas scikit-learn gradio uvicorn python-multipart"
      ]
    },
    {
      "cell_type": "code",
      "execution_count": 9,
      "metadata": {
        "id": "BKknDqqFd7K2"
      },
      "outputs": [],
      "source": [
        "# Load dataset\n",
        "import pandas as pd\n",
        "from sklearn.datasets import load_breast_cancer\n",
        "\n",
        "# Load dataset using scikit-learn\n",
        "cancer = load_breast_cancer()\n",
        "X = pd.DataFrame(cancer.data, columns=cancer.feature_names)\n",
        "y = pd.Series(cancer.target, name=\"target\")\n",
        "\n",
        "# Split train-test\n",
        "from sklearn.model_selection import train_test_split\n",
        "X_train, X_test, y_train, y_test = train_test_split(X, y, test_size=0.2, random_state=42)"
      ]
    },
    {
      "cell_type": "code",
      "execution_count": 10,
      "metadata": {
        "colab": {
          "base_uri": "https://localhost:8080/"
        },
        "id": "vQ2gqvfrdzE0",
        "outputId": "266a61f3-cf24-46be-cf42-e9c023d8b467"
      },
      "outputs": [
        {
          "name": "stdout",
          "output_type": "stream",
          "text": [
            "[0]\tvalidation_0-logloss:0.46755\n",
            "[1]\tvalidation_0-logloss:0.35439\n",
            "[2]\tvalidation_0-logloss:0.28176\n",
            "[3]\tvalidation_0-logloss:0.24011\n",
            "[4]\tvalidation_0-logloss:0.20182\n",
            "[5]\tvalidation_0-logloss:0.17846\n",
            "[6]\tvalidation_0-logloss:0.16165\n",
            "[7]\tvalidation_0-logloss:0.15280\n",
            "[8]\tvalidation_0-logloss:0.14094\n",
            "[9]\tvalidation_0-logloss:0.13805\n",
            "[10]\tvalidation_0-logloss:0.13877\n",
            "[11]\tvalidation_0-logloss:0.13706\n",
            "[12]\tvalidation_0-logloss:0.13745\n",
            "[13]\tvalidation_0-logloss:0.13874\n",
            "[14]\tvalidation_0-logloss:0.14041\n",
            "[15]\tvalidation_0-logloss:0.13797\n",
            "[16]\tvalidation_0-logloss:0.13544\n",
            "[17]\tvalidation_0-logloss:0.13698\n",
            "[18]\tvalidation_0-logloss:0.13659\n",
            "[19]\tvalidation_0-logloss:0.13539\n",
            "[20]\tvalidation_0-logloss:0.13409\n",
            "[21]\tvalidation_0-logloss:0.13405\n",
            "[22]\tvalidation_0-logloss:0.13553\n",
            "[23]\tvalidation_0-logloss:0.13206\n",
            "[24]\tvalidation_0-logloss:0.13219\n",
            "[25]\tvalidation_0-logloss:0.13554\n",
            "[26]\tvalidation_0-logloss:0.13597\n",
            "[27]\tvalidation_0-logloss:0.13352\n",
            "[28]\tvalidation_0-logloss:0.13400\n",
            "[29]\tvalidation_0-logloss:0.13451\n",
            "[30]\tvalidation_0-logloss:0.13383\n",
            "[31]\tvalidation_0-logloss:0.13174\n",
            "[32]\tvalidation_0-logloss:0.13544\n",
            "[33]\tvalidation_0-logloss:0.13482\n",
            "[34]\tvalidation_0-logloss:0.13527\n",
            "[35]\tvalidation_0-logloss:0.13460\n",
            "[36]\tvalidation_0-logloss:0.13352\n",
            "[37]\tvalidation_0-logloss:0.13302\n",
            "[38]\tvalidation_0-logloss:0.13231\n",
            "[39]\tvalidation_0-logloss:0.13024\n",
            "[40]\tvalidation_0-logloss:0.13344\n",
            "[41]\tvalidation_0-logloss:0.13299\n",
            "[42]\tvalidation_0-logloss:0.13184\n",
            "[43]\tvalidation_0-logloss:0.13215\n",
            "[44]\tvalidation_0-logloss:0.13190\n",
            "[45]\tvalidation_0-logloss:0.13240\n",
            "[46]\tvalidation_0-logloss:0.13156\n",
            "[47]\tvalidation_0-logloss:0.13053\n",
            "[48]\tvalidation_0-logloss:0.13012\n",
            "[49]\tvalidation_0-logloss:0.13027\n",
            "[50]\tvalidation_0-logloss:0.12989\n",
            "[51]\tvalidation_0-logloss:0.12987\n",
            "[52]\tvalidation_0-logloss:0.12956\n",
            "[53]\tvalidation_0-logloss:0.12987\n",
            "[54]\tvalidation_0-logloss:0.13002\n",
            "[55]\tvalidation_0-logloss:0.12979\n",
            "[56]\tvalidation_0-logloss:0.12993\n",
            "[57]\tvalidation_0-logloss:0.12871\n",
            "[58]\tvalidation_0-logloss:0.12830\n",
            "[59]\tvalidation_0-logloss:0.12739\n",
            "[60]\tvalidation_0-logloss:0.12769\n",
            "[61]\tvalidation_0-logloss:0.12786\n",
            "[62]\tvalidation_0-logloss:0.12754\n",
            "[63]\tvalidation_0-logloss:0.12769\n",
            "[64]\tvalidation_0-logloss:0.12664\n",
            "[65]\tvalidation_0-logloss:0.12693\n",
            "[66]\tvalidation_0-logloss:0.12670\n",
            "[67]\tvalidation_0-logloss:0.12685\n",
            "[68]\tvalidation_0-logloss:0.12655\n",
            "[69]\tvalidation_0-logloss:0.12556\n",
            "[70]\tvalidation_0-logloss:0.12584\n",
            "[71]\tvalidation_0-logloss:0.12598\n",
            "[72]\tvalidation_0-logloss:0.12615\n",
            "[73]\tvalidation_0-logloss:0.12644\n",
            "[74]\tvalidation_0-logloss:0.12568\n",
            "[75]\tvalidation_0-logloss:0.12605\n",
            "[76]\tvalidation_0-logloss:0.12584\n",
            "[77]\tvalidation_0-logloss:0.12611\n",
            "[78]\tvalidation_0-logloss:0.12588\n",
            "[79]\tvalidation_0-logloss:0.12521\n",
            "[80]\tvalidation_0-logloss:0.12547\n",
            "[81]\tvalidation_0-logloss:0.12512\n",
            "[82]\tvalidation_0-logloss:0.12532\n",
            "[83]\tvalidation_0-logloss:0.12499\n",
            "[84]\tvalidation_0-logloss:0.12524\n",
            "[85]\tvalidation_0-logloss:0.12493\n",
            "[86]\tvalidation_0-logloss:0.12411\n",
            "[87]\tvalidation_0-logloss:0.12426\n",
            "[88]\tvalidation_0-logloss:0.12450\n",
            "[89]\tvalidation_0-logloss:0.12434\n",
            "[90]\tvalidation_0-logloss:0.12359\n",
            "[91]\tvalidation_0-logloss:0.12284\n",
            "[92]\tvalidation_0-logloss:0.12308\n",
            "[93]\tvalidation_0-logloss:0.12278\n",
            "[94]\tvalidation_0-logloss:0.12303\n",
            "[95]\tvalidation_0-logloss:0.12276\n",
            "[96]\tvalidation_0-logloss:0.12299\n",
            "[97]\tvalidation_0-logloss:0.12270\n",
            "[98]\tvalidation_0-logloss:0.12214\n",
            "[99]\tvalidation_0-logloss:0.12201\n",
            "Model Accuracy: 95.61%\n"
          ]
        }
      ],
      "source": [
        "# Train XGBoost Model\n",
        "\n",
        "import xgboost as xgb\n",
        "from sklearn.metrics import accuracy_score\n",
        "\n",
        "# Train model\n",
        "model = xgb.XGBClassifier(\n",
        "    objective=\"binary:logistic\",\n",
        "    eval_metric=\"logloss\",\n",
        "    early_stopping_rounds=10,\n",
        "    n_estimators=100,\n",
        ")\n",
        "model.fit(X_train, y_train, eval_set=[(X_test, y_test)])\n",
        "\n",
        "# Evaluate\n",
        "y_pred = model.predict(X_test)\n",
        "accuracy = accuracy_score(y_test, y_pred)\n",
        "print(f\"Model Accuracy: {accuracy * 100:.2f}%\")  # Expected ~88%"
      ]
    },
    {
      "cell_type": "code",
      "execution_count": 17,
      "metadata": {
        "colab": {
          "base_uri": "https://localhost:8080/",
          "height": 698
        },
        "id": "fSAQg4SMfUlc",
        "outputId": "7d85276c-4a6d-4896-a025-80fc1d4a37fe"
      },
      "outputs": [
        {
          "name": "stderr",
          "output_type": "stream",
          "text": [
            "/usr/local/lib/python3.11/dist-packages/pydantic/_internal/_config.py:151: RuntimeWarning: coroutine 'Server.serve' was never awaited\n",
            "  return self.config_dict[name]\n",
            "RuntimeWarning: Enable tracemalloc to get the object allocation traceback\n"
          ]
        },
        {
          "name": "stdout",
          "output_type": "stream",
          "text": [
            "It looks like you are running Gradio on a hosted a Jupyter notebook. For the Gradio app to work, sharing must be enabled. Automatically setting `share=True` (you can turn this off by setting `share=False` in `launch()` explicitly).\n",
            "\n",
            "Colab notebook detected. To show errors in colab notebook, set debug=True in launch()\n",
            "* Running on public URL: https://46e926a55ea32bde19.gradio.live\n",
            "\n",
            "This share link expires in 1 week. For free permanent hosting and GPU upgrades, run `gradio deploy` from the terminal in the working directory to deploy to Hugging Face Spaces (https://huggingface.co/spaces)\n"
          ]
        },
        {
          "data": {
            "text/html": [
              "<div><iframe src=\"https://46e926a55ea32bde19.gradio.live\" width=\"100%\" height=\"500\" allow=\"autoplay; camera; microphone; clipboard-read; clipboard-write;\" frameborder=\"0\" allowfullscreen></iframe></div>"
            ],
            "text/plain": [
              "<IPython.core.display.HTML object>"
            ]
          },
          "metadata": {},
          "output_type": "display_data"
        },
        {
          "data": {
            "text/plain": []
          },
          "execution_count": 17,
          "metadata": {},
          "output_type": "execute_result"
        }
      ],
      "source": [
        "import gradio as gr\n",
        "import shap\n",
        "import numpy as np\n",
        "import matplotlib.pyplot as plt\n",
        "\n",
        "# Initialize SHAP explainer\n",
        "explainer = shap.TreeExplainer(model)\n",
        "\n",
        "def predict_and_explain(*features):\n",
        "    # Convert input to numpy array\n",
        "    input_data = np.array(features).reshape(1, -1)\n",
        "\n",
        "    # Make prediction\n",
        "    prediction = model.predict(input_data)[0]\n",
        "    confidence = model.predict_proba(input_data)[0][1]\n",
        "\n",
        "    # Generate SHAP explanation\n",
        "    shap_values = explainer.shap_values(input_data)\n",
        "\n",
        "    # Create force plot\n",
        "    plt.figure()\n",
        "    shap.force_plot(\n",
        "        explainer.expected_value,\n",
        "        shap_values[0],\n",
        "        input_data[0],\n",
        "        feature_names=cancer.feature_names, # Changed from data.feature_names\n",
        "        matplotlib=True,\n",
        "        show=False\n",
        "    )\n",
        "\n",
        "    # Get top contributing features\n",
        "    top_features = {\n",
        "        cancer.feature_names[i]: float(shap_values[0][i]) # Changed from data.feature_names\n",
        "        for i in np.argsort(-np.abs(shap_values[0]))[:3]\n",
        "    }\n",
        "\n",
        "    # Format output\n",
        "    diagnosis = \"Malignant (High Risk)\" if prediction == 1 else \"Benign (Low Risk)\"\n",
        "\n",
        "    # Save plot to file\n",
        "    plt.savefig('shap_plot.png', bbox_inches='tight')\n",
        "    plt.close()\n",
        "\n",
        "    return {\n",
        "        \"Diagnosis\": diagnosis,\n",
        "        \"Confidence Score\": f\"{confidence*100:.1f}%\",\n",
        "        \"Top Contributing Factors\": top_features,\n",
        "        \"Explanation Plot\": 'shap_plot.png'\n",
        "    }\n",
        "\n",
        "# Create input components\n",
        "inputs = []\n",
        "for feature in cancer.feature_names: # Changed from data.feature_names\n",
        "    inputs.append(\n",
        "        gr.Number(label=feature, value=X_test.iloc[0][feature])\n",
        "    )\n",
        "\n",
        "# Create Gradio interface\n",
        "demo = gr.Interface(\n",
        "    fn=predict_and_explain,\n",
        "    inputs=inputs,\n",
        "    outputs=[\n",
        "        gr.Label(label=\"Diagnosis\"),\n",
        "        gr.Label(label=\"Confidence Score\"),\n",
        "        gr.Label(label=\"Top Contributing Factors\"),\n",
        "        gr.Image(label=\"Explanation Plot\")\n",
        "    ],\n",
        "    title=\"Early Disease Detection System\",\n",
        "    description=\"Predicts breast cancer risk with interpretability features\",\n",
        "    examples=[X_test.iloc[i].tolist() for i in range(3)]\n",
        ")\n",
        "\n",
        "# Launch the interface\n",
        "demo.launch()"
      ]
    }
  ],
  "metadata": {
    "colab": {
      "provenance": []
    },
    "kernelspec": {
      "display_name": "Python 3",
      "name": "python3"
    },
    "language_info": {
      "name": "python"
    }
  },
  "nbformat": 4,
  "nbformat_minor": 0
}
